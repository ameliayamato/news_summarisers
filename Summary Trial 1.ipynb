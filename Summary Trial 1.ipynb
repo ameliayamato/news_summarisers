{
 "cells": [
  {
   "cell_type": "code",
   "execution_count": 1,
   "metadata": {},
   "outputs": [
    {
     "name": "stdout",
     "output_type": "stream",
     "text": [
      "Requirement already satisfied: nltk in /Users/millie/opt/anaconda3/lib/python3.7/site-packages (3.4.5)\n",
      "Requirement already satisfied: six in /Users/millie/opt/anaconda3/lib/python3.7/site-packages (from nltk) (1.14.0)\n",
      "Collecting newspaper3k\n",
      "  Downloading newspaper3k-0.2.8-py3-none-any.whl (211 kB)\n",
      "\u001b[K     |████████████████████████████████| 211 kB 2.0 MB/s eta 0:00:01\n",
      "\u001b[?25hCollecting jieba3k>=0.35.1\n",
      "  Downloading jieba3k-0.35.1.zip (7.4 MB)\n",
      "\u001b[K     |████████████████████████████████| 7.4 MB 1.6 MB/s eta 0:00:01\n",
      "\u001b[?25hRequirement already satisfied: requests>=2.10.0 in /Users/millie/opt/anaconda3/lib/python3.7/site-packages (from newspaper3k) (2.22.0)\n",
      "Requirement already satisfied: lxml>=3.6.0 in /Users/millie/opt/anaconda3/lib/python3.7/site-packages (from newspaper3k) (4.5.0)\n",
      "Requirement already satisfied: python-dateutil>=2.5.3 in /Users/millie/opt/anaconda3/lib/python3.7/site-packages (from newspaper3k) (2.8.1)\n",
      "Collecting tldextract>=2.0.1\n",
      "  Downloading tldextract-2.2.2-py2.py3-none-any.whl (48 kB)\n",
      "\u001b[K     |████████████████████████████████| 48 kB 2.3 MB/s eta 0:00:01\n",
      "\u001b[?25hRequirement already satisfied: Pillow>=3.3.0 in /Users/millie/opt/anaconda3/lib/python3.7/site-packages (from newspaper3k) (7.0.0)\n",
      "Requirement already satisfied: PyYAML>=3.11 in /Users/millie/opt/anaconda3/lib/python3.7/site-packages (from newspaper3k) (5.3)\n",
      "Requirement already satisfied: nltk>=3.2.1 in /Users/millie/opt/anaconda3/lib/python3.7/site-packages (from newspaper3k) (3.4.5)\n",
      "Requirement already satisfied: beautifulsoup4>=4.4.1 in /Users/millie/opt/anaconda3/lib/python3.7/site-packages (from newspaper3k) (4.8.2)\n",
      "Collecting feedfinder2>=0.0.4\n",
      "  Downloading feedfinder2-0.0.4.tar.gz (3.3 kB)\n",
      "Collecting feedparser>=5.2.1\n",
      "  Downloading feedparser-5.2.1.tar.bz2 (192 kB)\n",
      "\u001b[K     |████████████████████████████████| 192 kB 1.4 MB/s eta 0:00:01\n",
      "\u001b[?25hCollecting cssselect>=0.9.2\n",
      "  Downloading cssselect-1.1.0-py2.py3-none-any.whl (16 kB)\n",
      "Collecting tinysegmenter==0.3\n",
      "  Downloading tinysegmenter-0.3.tar.gz (16 kB)\n",
      "Requirement already satisfied: certifi>=2017.4.17 in /Users/millie/opt/anaconda3/lib/python3.7/site-packages (from requests>=2.10.0->newspaper3k) (2019.11.28)\n",
      "Requirement already satisfied: chardet<3.1.0,>=3.0.2 in /Users/millie/opt/anaconda3/lib/python3.7/site-packages (from requests>=2.10.0->newspaper3k) (3.0.4)\n",
      "Requirement already satisfied: idna<2.9,>=2.5 in /Users/millie/opt/anaconda3/lib/python3.7/site-packages (from requests>=2.10.0->newspaper3k) (2.8)\n",
      "Requirement already satisfied: urllib3!=1.25.0,!=1.25.1,<1.26,>=1.21.1 in /Users/millie/opt/anaconda3/lib/python3.7/site-packages (from requests>=2.10.0->newspaper3k) (1.25.8)\n",
      "Requirement already satisfied: six>=1.5 in /Users/millie/opt/anaconda3/lib/python3.7/site-packages (from python-dateutil>=2.5.3->newspaper3k) (1.14.0)\n",
      "Collecting requests-file>=1.4\n",
      "  Downloading requests_file-1.5.1-py2.py3-none-any.whl (3.7 kB)\n",
      "Requirement already satisfied: setuptools in /Users/millie/opt/anaconda3/lib/python3.7/site-packages (from tldextract>=2.0.1->newspaper3k) (46.0.0.post20200309)\n",
      "Requirement already satisfied: soupsieve>=1.2 in /Users/millie/opt/anaconda3/lib/python3.7/site-packages (from beautifulsoup4>=4.4.1->newspaper3k) (1.9.5)\n",
      "Building wheels for collected packages: jieba3k, feedfinder2, feedparser, tinysegmenter\n",
      "  Building wheel for jieba3k (setup.py) ... \u001b[?25ldone\n",
      "\u001b[?25h  Created wheel for jieba3k: filename=jieba3k-0.35.1-py3-none-any.whl size=7398406 sha256=533b7db24c5cb83e5674c513bf155d81f22bcb7cf54cca258762345b9096968d\n",
      "  Stored in directory: /Users/millie/Library/Caches/pip/wheels/4c/91/46/3c208287b726df325a5979574324878b679116e4baae1af3c3\n",
      "  Building wheel for feedfinder2 (setup.py) ... \u001b[?25ldone\n",
      "\u001b[?25h  Created wheel for feedfinder2: filename=feedfinder2-0.0.4-py3-none-any.whl size=3355 sha256=d7b022b91aaaf2efd4a4a0f7d3fb2f1083cbc446b37ce34aa69490e73421ce02\n",
      "  Stored in directory: /Users/millie/Library/Caches/pip/wheels/7f/d4/8f/6e2ca54744c9d7292d88ddb8d42876bcdab5e6d84a21c10346\n",
      "  Building wheel for feedparser (setup.py) ... \u001b[?25ldone\n",
      "\u001b[?25h  Created wheel for feedparser: filename=feedparser-5.2.1-py3-none-any.whl size=44939 sha256=d218a01a38260966dc2171fee385dd3d3f5fabf53c9e1a6217adfbb9060cb209\n",
      "  Stored in directory: /Users/millie/Library/Caches/pip/wheels/4a/87/a9/ef99b7b68f9816d5ef1262dc11ce31a93a844eb69e68c1a031\n",
      "  Building wheel for tinysegmenter (setup.py) ... \u001b[?25ldone\n",
      "\u001b[?25h  Created wheel for tinysegmenter: filename=tinysegmenter-0.3-py3-none-any.whl size=13538 sha256=3fe25d8466f9562d91fa9626aebe09dbf5e9ed4c86aa4e8007e187876d545c93\n",
      "  Stored in directory: /Users/millie/Library/Caches/pip/wheels/df/67/41/faca10fa501ca010be41b49d40360c2959e1c4f09bcbfa37fa\n",
      "Successfully built jieba3k feedfinder2 feedparser tinysegmenter\n",
      "Installing collected packages: jieba3k, requests-file, tldextract, feedfinder2, feedparser, cssselect, tinysegmenter, newspaper3k\n",
      "Successfully installed cssselect-1.1.0 feedfinder2-0.0.4 feedparser-5.2.1 jieba3k-0.35.1 newspaper3k-0.2.8 requests-file-1.5.1 tinysegmenter-0.3 tldextract-2.2.2\n"
     ]
    }
   ],
   "source": [
    "!pip install newspaper3k\n",
    "!pip install nltk"
   ]
  },
  {
   "cell_type": "code",
   "execution_count": 5,
   "metadata": {},
   "outputs": [
    {
     "name": "stderr",
     "output_type": "stream",
     "text": [
      "[nltk_data] Downloading package punkt to /Users/millie/nltk_data...\n",
      "[nltk_data]   Package punkt is already up-to-date!\n"
     ]
    },
    {
     "data": {
      "text/plain": [
       "True"
      ]
     },
     "execution_count": 5,
     "metadata": {},
     "output_type": "execute_result"
    }
   ],
   "source": [
    "import nltk \n",
    "from newspaper import Article\n",
    "nltk.download('punkt')"
   ]
  },
  {
   "cell_type": "code",
   "execution_count": 9,
   "metadata": {},
   "outputs": [],
   "source": [
    "page = \"https://techcrunch.com/2020/05/12/trillions-are-at-stake-in-the-retirement-wars-and-vise-nets-14-5m-from-sequoia-to-manage-it/\"\n",
    "to_summarize = Article(page)\n",
    "to_summarize.download()\n",
    "to_summarize.parse()\n",
    "to_summarize.nlp()"
   ]
  },
  {
   "cell_type": "code",
   "execution_count": 10,
   "metadata": {},
   "outputs": [
    {
     "name": "stdout",
     "output_type": "stream",
     "text": [
      "On one hand are traditional wealth managers, firms like Edward Jones, who either employ full-time human financial advisors or empower independent contractors to help clients plan through their finances.\n",
      "Instead, Vise aims to be a one-stop shop for all the needs in the daily workflow of an investment advisor.\n",
      "Ultimately, Vise is a pure B2B play, and the founders want to maintain that focus into the future.\n",
      "They believe that wealth advisors have special knowledge of their clients needs and the relationships to match, which Vise can’t compete with.\n",
      "In addition to Sequoia, Founders Fund, and Bling, Human Capital, Lachy Groom, Steve Chen, and Jon Xu joined the round according to the company.\n"
     ]
    }
   ],
   "source": [
    "print(to_summarize.summary)\n",
    "#summary is too much of a summary, find a way to do it where its concise without compromising on information\n",
    "#but this may be quite helping with maintaining a twitter feed "
   ]
  },
  {
   "cell_type": "code",
   "execution_count": null,
   "metadata": {},
   "outputs": [],
   "source": []
  }
 ],
 "metadata": {
  "kernelspec": {
   "display_name": "Python 3",
   "language": "python",
   "name": "python3"
  },
  "language_info": {
   "codemirror_mode": {
    "name": "ipython",
    "version": 3
   },
   "file_extension": ".py",
   "mimetype": "text/x-python",
   "name": "python",
   "nbconvert_exporter": "python",
   "pygments_lexer": "ipython3",
   "version": "3.7.6"
  }
 },
 "nbformat": 4,
 "nbformat_minor": 4
}
