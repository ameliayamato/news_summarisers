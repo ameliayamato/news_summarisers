{
 "cells": [
  {
   "cell_type": "code",
   "execution_count": 11,
   "metadata": {},
   "outputs": [
    {
     "name": "stdout",
     "output_type": "stream",
     "text": [
      "Requirement already satisfied: lxml in /Users/millie/opt/anaconda3/lib/python3.7/site-packages (4.5.0)\n",
      "Requirement already satisfied: beautifulsoup4 in /Users/millie/opt/anaconda3/lib/python3.7/site-packages (4.8.2)\n",
      "Requirement already satisfied: soupsieve>=1.2 in /Users/millie/opt/anaconda3/lib/python3.7/site-packages (from beautifulsoup4) (1.9.5)\n"
     ]
    },
    {
     "name": "stderr",
     "output_type": "stream",
     "text": [
      "[nltk_data] Downloading package stopwords to\n",
      "[nltk_data]     /Users/millie/nltk_data...\n",
      "[nltk_data]   Unzipping corpora/stopwords.zip.\n"
     ]
    },
    {
     "data": {
      "text/plain": [
       "True"
      ]
     },
     "execution_count": 11,
     "metadata": {},
     "output_type": "execute_result"
    }
   ],
   "source": [
    "!pip install lxml\n",
    "!pip install beautifulsoup4\n",
    "import nltk\n",
    "nltk.download('stopwords')"
   ]
  },
  {
   "cell_type": "code",
   "execution_count": 7,
   "metadata": {},
   "outputs": [],
   "source": [
    "import bs4 as bs\n",
    "import re\n",
    "import urllib.request"
   ]
  },
  {
   "cell_type": "code",
   "execution_count": 8,
   "metadata": {},
   "outputs": [],
   "source": [
    "#this scrapes data from the web using the provided url \n",
    "scrape = urllib.request.urlopen('https://techcrunch.com/2020/05/12/trillions-are-at-stake-in-the-retirement-wars-and-vise-nets-14-5m-from-sequoia-to-manage-it/')\n",
    "#urlopen scrapes the data\n",
    "article = scrape.read()\n",
    "\n",
    "\n",
    "parsed = bs.BeautifulSoup(article,'lxml')\n",
    "\n",
    "paragraphs = parsed.find_all('article')\n",
    "\n",
    "text = \"\"\n",
    "\n",
    "for p in paragraphs:\n",
    "    text += p.text"
   ]
  },
  {
   "cell_type": "code",
   "execution_count": 9,
   "metadata": {},
   "outputs": [],
   "source": [
    "# Removing special characters and digits\n",
    "formatted_text = re.sub('[^a-zA-Z]', ' ', text )\n",
    "formatted_text = re.sub(r'\\s+', ' ', formatted_text)\n",
    "sentence_list = nltk.sent_tokenize(text)"
   ]
  },
  {
   "cell_type": "code",
   "execution_count": 12,
   "metadata": {},
   "outputs": [],
   "source": [
    "stopwords = nltk.corpus.stopwords.words('english')\n",
    "\n",
    "word_frequencies = {}\n",
    "\n",
    "#for loop to keep track of frequency of each word appearing\n",
    "for word in nltk.word_tokenize(formatted_text):\n",
    "    if word not in stopwords:\n",
    "        if word not in word_frequencies.keys():\n",
    "            word_frequencies[word] = 1\n",
    "        else:\n",
    "            word_frequencies[word] += 1"
   ]
  },
  {
   "cell_type": "code",
   "execution_count": 13,
   "metadata": {},
   "outputs": [],
   "source": [
    "freq = word_frequencies.values()\n",
    "maximum_frequency = max(freq)\n",
    "\n",
    "words = word_frequencies.keys()\n",
    "for word in words:\n",
    "    word_frequencies[word] = (word_frequencies[word]/maximum_frequency)"
   ]
  },
  {
   "cell_type": "code",
   "execution_count": 14,
   "metadata": {},
   "outputs": [],
   "source": [
    "sentence_scores = {}\n",
    "for s in sentence_list:\n",
    "    for word in nltk.word_tokenize(s.lower()):\n",
    "        if word in words:\n",
    "            if len(s.split(' ')) < 30:\n",
    "                if s not in sentence_scores.keys():\n",
    "                    sentence_scores[s] = word_frequencies[word]\n",
    "                else:\n",
    "                    sentence_scores[s] += word_frequencies[word]"
   ]
  },
  {
   "cell_type": "code",
   "execution_count": 15,
   "metadata": {},
   "outputs": [
    {
     "name": "stdout",
     "output_type": "stream",
     "text": [
      "On one hand are traditional wealth managers, firms like Edward Jones, who either employ full-time human financial advisors or empower independent contractors to help clients plan through their finances. Financial advisors already rely on a suite of software from CRMs to investment analysis platforms to perform their jobs, but those tools have rarely been integrated into one place. On the other side has been the rise of “roboadvisors” like Wealthfront  that use algorithms and simple financial products like ETFs to advise people at lower cost. They believe that wealth advisors have special knowledge of their clients needs and the relationships to match, which Vise can’t compete with. As millions of baby boomers leave their jobs in the coming years and transition into retirement, there is a huge competition for who will manage their savings. \n",
      "\n",
      "\n",
      "Trillions are at stake in the retirement wars, and Vise nets $14.5M from Sequoia to manage it\n",
      "\n",
      "\n",
      "\n",
      "\n",
      "\t\t\tDanny Crichton\t\t\n",
      "\n",
      "\t\t\t\t\t\t2 days\t\t\n",
      "\n",
      "\n",
      "\n",
      "\n",
      "\n",
      "\n",
      "\n",
      "The retirement wars are heating up. In addition to Sequoia, Founders Fund, and Bling, Human Capital, Lachy Groom, Steve Chen, and Jon Xu joined the round according to the company.\n"
     ]
    }
   ],
   "source": [
    "import heapq\n",
    "summary_sentences = heapq.nlargest(7, sentence_scores, key=sentence_scores.get)\n",
    "\n",
    "summary = ' '.join(summary_sentences)\n",
    "print(summary)"
   ]
  },
  {
   "cell_type": "code",
   "execution_count": null,
   "metadata": {},
   "outputs": [],
   "source": []
  }
 ],
 "metadata": {
  "kernelspec": {
   "display_name": "Python 3",
   "language": "python",
   "name": "python3"
  },
  "language_info": {
   "codemirror_mode": {
    "name": "ipython",
    "version": 3
   },
   "file_extension": ".py",
   "mimetype": "text/x-python",
   "name": "python",
   "nbconvert_exporter": "python",
   "pygments_lexer": "ipython3",
   "version": "3.7.6"
  }
 },
 "nbformat": 4,
 "nbformat_minor": 4
}
